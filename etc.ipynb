{
 "cells": [
  {
   "cell_type": "code",
   "execution_count": null,
   "metadata": {},
   "outputs": [],
   "source": [
    "from bs4 import BeautifulSoup\n",
    "import requests\n",
    "import os"
   ]
  },
  {
   "cell_type": "markdown",
   "metadata": {},
   "source": [
    "### 정부 사업"
   ]
  },
  {
   "cell_type": "code",
   "execution_count": null,
   "metadata": {},
   "outputs": [],
   "source": [
    "page_num = 1\n",
    "url = f\"https://www.msit.go.kr/bbs/list.do?sCode=user&mId=129&mPid=224&pageIndex={page_num}&bbsSeqNo=100&nttSeqNo=&searchOpt=ALL&searchTxt=\"\n",
    "page = requests.get(url)\n",
    "soup = BeautifulSoup(page.content, \"html.parser\")\n",
    "\n",
    "# 페이지에서 첫 번째 h1 태그 찾기\n",
    "div = soup.find_all('div',class_=\"board-link\", limit=1)  "
   ]
  }
 ],
 "metadata": {
  "language_info": {
   "name": "python"
  }
 },
 "nbformat": 4,
 "nbformat_minor": 2
}

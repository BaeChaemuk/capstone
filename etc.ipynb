{
 "cells": [
  {
   "cell_type": "markdown",
   "metadata": {},
   "source": [
    "### Import"
   ]
  },
  {
   "cell_type": "code",
   "execution_count": 2,
   "metadata": {},
   "outputs": [],
   "source": [
    "from bs4 import BeautifulSoup\n",
    "import requests\n",
    "import os"
   ]
  },
  {
   "cell_type": "markdown",
   "metadata": {},
   "source": [
    "### 정부 사업"
   ]
  },
  {
   "cell_type": "code",
   "execution_count": 39,
   "metadata": {},
   "outputs": [],
   "source": [
    "page_num = 1\n",
    "url = f\"https://www.msit.go.kr/bbs/list.do?sCode=user&mId=129&mPid=224&pageIndex={page_num}&bbsSeqNo=100&nttSeqNo=&searchOpt=ALL&searchTxt=\"\n",
    "page = requests.get(url)\n",
    "soup = BeautifulSoup(page.content, \"html.parser\")\n",
    "\n",
    "# 페이지에서 첫 번째 h1 태그 찾기\n",
    "div = soup.find_all('div',class_=\"toggle\", limit=10)  "
   ]
  },
  {
   "cell_type": "code",
   "execution_count": 61,
   "metadata": {},
   "outputs": [
    {
     "data": {
      "text/plain": [
       "<div class=\"toggle\">\n",
       "<a href=\"javascript:;\" onclick=\"fn_detail(3178865);\" title=\"상세보기\">\n",
       "<div class=\"num\" id=\"td_NO_0\"></div>\n",
       "<div class=\"txt\">\n",
       "<p class=\"title\" id=\"td_NTT_SJ_0\"></p>\n",
       "<div class=\"meta\">\n",
       "<dl class=\"tit_con\">\n",
       "<dt class=\"tit\"> 노출내용</dt>\n",
       "<dd class=\"con\" id=\"td_NTT_CN2_0\"></dd>\n",
       "</dl>\n",
       "<dl class=\"tit_con\">\n",
       "<dt class=\"tit\"> 부서</dt>\n",
       "<dd class=\"con\" id=\"td_CHRG_DEPT_NM_0\"></dd>\n",
       "</dl>\n",
       "<dl class=\"tit_con\">\n",
       "<dt class=\"tit\"> 담당자</dt>\n",
       "<dd class=\"con\" id=\"td_NTCR_0\"></dd>\n",
       "</dl>\n",
       "<dl class=\"tit_con\">\n",
       "<dt class=\"tit\"> 연락처</dt>\n",
       "<dd class=\"con\" id=\"td_TELNO_0\"></dd>\n",
       "</dl>\n",
       "</div>\n",
       "</div>\n",
       "<div class=\"file\" id=\"td_FILE_0\"></div>\n",
       "<div class=\"date\" id=\"td_REG_DT_0\"></div>\n",
       "</a>\n",
       "</div>"
      ]
     },
     "execution_count": 61,
     "metadata": {},
     "output_type": "execute_result"
    }
   ],
   "source": [
    "div[0]"
   ]
  },
  {
   "cell_type": "code",
   "execution_count": 62,
   "metadata": {},
   "outputs": [],
   "source": [
    "def extractListNum(divs):\n",
    "    linkIDs = []\n",
    "    for div in divs:\n",
    "        divText = str(div)\n",
    "        staIdx = divText.find('(')\n",
    "        endIdx = divText.find(')')\n",
    "        linkID = divText[staIdx+1:endIdx]\n",
    "\n",
    "        linkIDs.append(linkID)\n",
    "    return linkIDs"
   ]
  },
  {
   "cell_type": "code",
   "execution_count": 63,
   "metadata": {},
   "outputs": [
    {
     "data": {
      "text/plain": [
       "['3178865',\n",
       " '3178864',\n",
       " '3178861',\n",
       " '3178860',\n",
       " '3178858',\n",
       " '3178857',\n",
       " '3178856',\n",
       " '3178855',\n",
       " '3178852',\n",
       " '3178854']"
      ]
     },
     "execution_count": 63,
     "metadata": {},
     "output_type": "execute_result"
    }
   ],
   "source": [
    "extractListNum(div)"
   ]
  },
  {
   "cell_type": "code",
   "execution_count": 65,
   "metadata": {},
   "outputs": [],
   "source": [
    "a = soup.find_all(\"p\", class_=\"title\")"
   ]
  },
  {
   "cell_type": "code",
   "execution_count": null,
   "metadata": {},
   "outputs": [],
   "source": []
  }
 ],
 "metadata": {
  "kernelspec": {
   "display_name": "crawling",
   "language": "python",
   "name": "python3"
  },
  "language_info": {
   "codemirror_mode": {
    "name": "ipython",
    "version": 3
   },
   "file_extension": ".py",
   "mimetype": "text/x-python",
   "name": "python",
   "nbconvert_exporter": "python",
   "pygments_lexer": "ipython3",
   "version": "3.10.13"
  }
 },
 "nbformat": 4,
 "nbformat_minor": 2
}

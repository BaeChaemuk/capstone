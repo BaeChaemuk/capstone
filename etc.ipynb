{
 "cells": [
  {
   "cell_type": "markdown",
   "metadata": {},
   "source": [
    "### Import"
   ]
  },
  {
   "cell_type": "code",
   "execution_count": 1,
   "metadata": {},
   "outputs": [],
   "source": [
    "from bs4 import BeautifulSoup\n",
    "import requests\n",
    "import pandas as pd"
   ]
  },
  {
   "cell_type": "markdown",
   "metadata": {},
   "source": [
    "### 정부 사업"
   ]
  },
  {
   "cell_type": "code",
   "execution_count": 39,
   "metadata": {},
   "outputs": [],
   "source": [
    "page_num = 1\n",
    "url = f\"https://www.msit.go.kr/bbs/list.do?sCode=user&mId=129&mPid=224&pageIndex={page_num}&bbsSeqNo=100&nttSeqNo=&searchOpt=ALL&searchTxt=\"\n",
    "page = requests.get(url)\n",
    "soup = BeautifulSoup(page.content, \"html.parser\")\n",
    "\n",
    "div = soup.find_all('div',class_=\"toggle\", limit=10)  "
   ]
  },
  {
   "cell_type": "code",
   "execution_count": 61,
   "metadata": {},
   "outputs": [
    {
     "data": {
      "text/plain": [
       "<div class=\"toggle\">\n",
       "<a href=\"javascript:;\" onclick=\"fn_detail(3178865);\" title=\"상세보기\">\n",
       "<div class=\"num\" id=\"td_NO_0\"></div>\n",
       "<div class=\"txt\">\n",
       "<p class=\"title\" id=\"td_NTT_SJ_0\"></p>\n",
       "<div class=\"meta\">\n",
       "<dl class=\"tit_con\">\n",
       "<dt class=\"tit\"> 노출내용</dt>\n",
       "<dd class=\"con\" id=\"td_NTT_CN2_0\"></dd>\n",
       "</dl>\n",
       "<dl class=\"tit_con\">\n",
       "<dt class=\"tit\"> 부서</dt>\n",
       "<dd class=\"con\" id=\"td_CHRG_DEPT_NM_0\"></dd>\n",
       "</dl>\n",
       "<dl class=\"tit_con\">\n",
       "<dt class=\"tit\"> 담당자</dt>\n",
       "<dd class=\"con\" id=\"td_NTCR_0\"></dd>\n",
       "</dl>\n",
       "<dl class=\"tit_con\">\n",
       "<dt class=\"tit\"> 연락처</dt>\n",
       "<dd class=\"con\" id=\"td_TELNO_0\"></dd>\n",
       "</dl>\n",
       "</div>\n",
       "</div>\n",
       "<div class=\"file\" id=\"td_FILE_0\"></div>\n",
       "<div class=\"date\" id=\"td_REG_DT_0\"></div>\n",
       "</a>\n",
       "</div>"
      ]
     },
     "execution_count": 61,
     "metadata": {},
     "output_type": "execute_result"
    }
   ],
   "source": [
    "div[0]"
   ]
  },
  {
   "cell_type": "code",
   "execution_count": 2,
   "metadata": {},
   "outputs": [],
   "source": [
    "def extractListNum(divs):\n",
    "    linkIDs = []\n",
    "    for div in divs:\n",
    "        divText = str(div)\n",
    "        staIdx = divText.find('(')\n",
    "        endIdx = divText.find(')')\n",
    "        linkID = divText[staIdx+1:endIdx]\n",
    "\n",
    "        linkIDs.append(linkID)\n",
    "    return linkIDs\n",
    "\n",
    "def extractTitle(list_num):\n",
    "    url = f\"https://www.msit.go.kr/bbs/view.do?sCode=user&mId=129&mPid=224&pageIndex=1&bbsSeqNo=100&nttSeqNo={list_num}&searchOpt=ALL&searchTxt=\"\n",
    "    page = requests.get(url)\n",
    "    soup = BeautifulSoup(page.content, \"html.parser\")\n",
    "\n",
    "    div = soup.find_all('div',class_=\"view_head\", limit=1)  \n",
    "    divText = str(div)\n",
    "    staIdx = divText.find('<h2>')\n",
    "    endIdx = divText.find('</h2>')\n",
    "    divTitle = divText[staIdx+4:endIdx]\n",
    "\n",
    "    return divTitle"
   ]
  },
  {
   "cell_type": "markdown",
   "metadata": {},
   "source": [
    "### Load CSV"
   ]
  },
  {
   "cell_type": "code",
   "execution_count": 9,
   "metadata": {},
   "outputs": [
    {
     "data": {
      "text/html": [
       "<div>\n",
       "<style scoped>\n",
       "    .dataframe tbody tr th:only-of-type {\n",
       "        vertical-align: middle;\n",
       "    }\n",
       "\n",
       "    .dataframe tbody tr th {\n",
       "        vertical-align: top;\n",
       "    }\n",
       "\n",
       "    .dataframe thead th {\n",
       "        text-align: right;\n",
       "    }\n",
       "</style>\n",
       "<table border=\"1\" class=\"dataframe\">\n",
       "  <thead>\n",
       "    <tr style=\"text-align: right;\">\n",
       "      <th></th>\n",
       "      <th>link</th>\n",
       "      <th>title</th>\n",
       "      <th>category</th>\n",
       "      <th>part</th>\n",
       "    </tr>\n",
       "  </thead>\n",
       "  <tbody>\n",
       "    <tr>\n",
       "      <th>0</th>\n",
       "      <td>https://www.msit.go.kr/bbs/view.do?sCode=user&amp;...</td>\n",
       "      <td>2024년도 고수요 데이터 확충 사업 신규과제 공고</td>\n",
       "      <td>NaN</td>\n",
       "      <td>ministry of science and ict</td>\n",
       "    </tr>\n",
       "    <tr>\n",
       "      <th>1</th>\n",
       "      <td>https://www.msit.go.kr/bbs/view.do?sCode=user&amp;...</td>\n",
       "      <td>정책연구용역(부가통신서비스 제도 개선 방안 연구) 입찰공고</td>\n",
       "      <td>NaN</td>\n",
       "      <td>ministry of science and ict</td>\n",
       "    </tr>\n",
       "    <tr>\n",
       "      <th>2</th>\n",
       "      <td>https://www.msit.go.kr/bbs/view.do?sCode=user&amp;...</td>\n",
       "      <td>정책연구용역(전략적 경쟁시대 혁신 기반의 미래 정부기능 탐색 연구) 입찰공고</td>\n",
       "      <td>NaN</td>\n",
       "      <td>ministry of science and ict</td>\n",
       "    </tr>\n",
       "    <tr>\n",
       "      <th>3</th>\n",
       "      <td>https://www.msit.go.kr/bbs/view.do?sCode=user&amp;...</td>\n",
       "      <td>정책연구용역(공공SW사업 중 신기술 과업의 적정 대가 산정방안에 관한 연구) 입찰공고</td>\n",
       "      <td>NaN</td>\n",
       "      <td>ministry of science and ict</td>\n",
       "    </tr>\n",
       "    <tr>\n",
       "      <th>4</th>\n",
       "      <td>https://www.msit.go.kr/bbs/view.do?sCode=user&amp;...</td>\n",
       "      <td>정책연구용역(과학기술분야 연구데이터 개방 및 활용을 위한 운영·관리 제도화 방안 연...</td>\n",
       "      <td>NaN</td>\n",
       "      <td>ministry of science and ict</td>\n",
       "    </tr>\n",
       "    <tr>\n",
       "      <th>5</th>\n",
       "      <td>https://www.msit.go.kr/bbs/view.do?sCode=user&amp;...</td>\n",
       "      <td>2024년 블록체인 공공분야 집중·확산사업 사업자 모집 공고</td>\n",
       "      <td>NaN</td>\n",
       "      <td>ministry of science and ict</td>\n",
       "    </tr>\n",
       "    <tr>\n",
       "      <th>6</th>\n",
       "      <td>https://www.msit.go.kr/bbs/view.do?sCode=user&amp;...</td>\n",
       "      <td>2024년도 『VICTORY 프로그램』제24기 교육생 모집 공고문</td>\n",
       "      <td>NaN</td>\n",
       "      <td>ministry of science and ict</td>\n",
       "    </tr>\n",
       "    <tr>\n",
       "      <th>7</th>\n",
       "      <td>https://www.msit.go.kr/bbs/view.do?sCode=user&amp;...</td>\n",
       "      <td>2024년 초거대AI 기반 \"서비스 개발지원\" 사업 공고</td>\n",
       "      <td>NaN</td>\n",
       "      <td>ministry of science and ict</td>\n",
       "    </tr>\n",
       "    <tr>\n",
       "      <th>8</th>\n",
       "      <td>https://www.msit.go.kr/bbs/view.do?sCode=user&amp;...</td>\n",
       "      <td>2024년 초거대AI 기반 \"플랫폼 이용지원\" 사업 공고</td>\n",
       "      <td>NaN</td>\n",
       "      <td>ministry of science and ict</td>\n",
       "    </tr>\n",
       "    <tr>\n",
       "      <th>9</th>\n",
       "      <td>https://www.msit.go.kr/bbs/view.do?sCode=user&amp;...</td>\n",
       "      <td>2024년「대통령과학장학금」 신규 장학생 선발 공고</td>\n",
       "      <td>NaN</td>\n",
       "      <td>ministry of science and ict</td>\n",
       "    </tr>\n",
       "  </tbody>\n",
       "</table>\n",
       "</div>"
      ],
      "text/plain": [
       "                                                link  \\\n",
       "0  https://www.msit.go.kr/bbs/view.do?sCode=user&...   \n",
       "1  https://www.msit.go.kr/bbs/view.do?sCode=user&...   \n",
       "2  https://www.msit.go.kr/bbs/view.do?sCode=user&...   \n",
       "3  https://www.msit.go.kr/bbs/view.do?sCode=user&...   \n",
       "4  https://www.msit.go.kr/bbs/view.do?sCode=user&...   \n",
       "5  https://www.msit.go.kr/bbs/view.do?sCode=user&...   \n",
       "6  https://www.msit.go.kr/bbs/view.do?sCode=user&...   \n",
       "7  https://www.msit.go.kr/bbs/view.do?sCode=user&...   \n",
       "8  https://www.msit.go.kr/bbs/view.do?sCode=user&...   \n",
       "9  https://www.msit.go.kr/bbs/view.do?sCode=user&...   \n",
       "\n",
       "                                               title  category  \\\n",
       "0                       2024년도 고수요 데이터 확충 사업 신규과제 공고       NaN   \n",
       "1                   정책연구용역(부가통신서비스 제도 개선 방안 연구) 입찰공고       NaN   \n",
       "2         정책연구용역(전략적 경쟁시대 혁신 기반의 미래 정부기능 탐색 연구) 입찰공고       NaN   \n",
       "3    정책연구용역(공공SW사업 중 신기술 과업의 적정 대가 산정방안에 관한 연구) 입찰공고       NaN   \n",
       "4  정책연구용역(과학기술분야 연구데이터 개방 및 활용을 위한 운영·관리 제도화 방안 연...       NaN   \n",
       "5                  2024년 블록체인 공공분야 집중·확산사업 사업자 모집 공고       NaN   \n",
       "6               2024년도 『VICTORY 프로그램』제24기 교육생 모집 공고문       NaN   \n",
       "7                    2024년 초거대AI 기반 \"서비스 개발지원\" 사업 공고       NaN   \n",
       "8                    2024년 초거대AI 기반 \"플랫폼 이용지원\" 사업 공고       NaN   \n",
       "9                       2024년「대통령과학장학금」 신규 장학생 선발 공고       NaN   \n",
       "\n",
       "                          part  \n",
       "0  ministry of science and ict  \n",
       "1  ministry of science and ict  \n",
       "2  ministry of science and ict  \n",
       "3  ministry of science and ict  \n",
       "4  ministry of science and ict  \n",
       "5  ministry of science and ict  \n",
       "6  ministry of science and ict  \n",
       "7  ministry of science and ict  \n",
       "8  ministry of science and ict  \n",
       "9  ministry of science and ict  "
      ]
     },
     "execution_count": 9,
     "metadata": {},
     "output_type": "execute_result"
    }
   ],
   "source": [
    "#businessDb = pd.DataFrame(columns=[\"link\", \"title\", \"category\", \"part\"])\n",
    "#businessDb\n",
    "businessDb = pd.read_csv(\"ministryOfScienceAndIct_businessAnnouncement.csv\")\n",
    "businessDb"
   ]
  },
  {
   "cell_type": "code",
   "execution_count": 6,
   "metadata": {},
   "outputs": [],
   "source": [
    "main_url = \"https://www.msit.go.kr/bbs/list.do?sCode=user&mPid=224&mId=129\"\n",
    "\n",
    "page = requests.get(main_url)\n",
    "soup = BeautifulSoup(page.content, \"html.parser\")\n",
    "\n",
    "div = soup.find_all('div',class_=\"toggle\", limit=10)  \n",
    "\n",
    "urlNumList = extractListNum(div)\n",
    "title = []\n",
    "link = []\n",
    "part = []\n",
    "category = []\n",
    "for urlNum in urlNumList:\n",
    "    title.append(extractTitle(urlNum))\n",
    "    link.append(f\"https://www.msit.go.kr/bbs/view.do?sCode=user&mId=129&mPid=224&pageIndex=1&bbsSeqNo=100&nttSeqNo={urlNum}&searchOpt=ALL&searchTxt=\")\n",
    "    part.append(\"ministry of science and ict\")\n",
    "    category.append(\"\")##미구현\n",
    "addTuples = pd.DataFrame({\"link\": link, \"title\" : title, \"category\" : category, \"part\" : part})\n",
    "afterConcat = pd.concat([businessDb,addTuples], ignore_index=True)"
   ]
  },
  {
   "cell_type": "markdown",
   "metadata": {},
   "source": [
    "### Save CSV"
   ]
  },
  {
   "cell_type": "code",
   "execution_count": 8,
   "metadata": {},
   "outputs": [],
   "source": [
    "afterConcat.to_csv(\"ministryOfScienceAndIct_businessAnnouncement.csv\",index=False)"
   ]
  },
  {
   "cell_type": "code",
   "execution_count": null,
   "metadata": {},
   "outputs": [],
   "source": []
  }
 ],
 "metadata": {
  "kernelspec": {
   "display_name": "crawling",
   "language": "python",
   "name": "python3"
  },
  "language_info": {
   "codemirror_mode": {
    "name": "ipython",
    "version": 3
   },
   "file_extension": ".py",
   "mimetype": "text/x-python",
   "name": "python",
   "nbconvert_exporter": "python",
   "pygments_lexer": "ipython3",
   "version": "3.10.13"
  }
 },
 "nbformat": 4,
 "nbformat_minor": 2
}
